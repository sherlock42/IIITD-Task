{
  "nbformat": 4,
  "nbformat_minor": 0,
  "metadata": {
    "colab": {
      "name": "Copy of IIITD Computer Vision Problem.ipynb",
      "version": "0.3.2",
      "provenance": [],
      "collapsed_sections": []
    },
    "kernelspec": {
      "name": "python3",
      "display_name": "Python 3"
    },
    "accelerator": "GPU"
  },
  "cells": [
    {
      "metadata": {
        "id": "yZ47bq41I6_2",
        "colab_type": "code",
        "colab": {}
      },
      "cell_type": "code",
      "source": [
        "import pickle\n",
        "import numpy as np\n",
        "from sklearn.utils import shuffle"
      ],
      "execution_count": 0,
      "outputs": []
    },
    {
      "metadata": {
        "id": "UIZjxEJ0zh_I",
        "colab_type": "text"
      },
      "cell_type": "markdown",
      "source": [
        "Using Google Colab for training,  next 4 blocks are for uploading the training dataset"
      ]
    },
    {
      "metadata": {
        "id": "gZoxKQ5JHR6E",
        "colab_type": "code",
        "colab": {}
      },
      "cell_type": "code",
      "source": [
        "# Code to read csv file into Colaboratory:\n",
        "!pip install -U -q PyDrive\n",
        "from pydrive.auth import GoogleAuth\n",
        "from pydrive.drive import GoogleDrive\n",
        "from google.colab import auth\n",
        "from oauth2client.client import GoogleCredentials\n",
        "# Authenticate and create the PyDrive client.\n",
        "auth.authenticate_user()\n",
        "gauth = GoogleAuth()\n",
        "gauth.credentials = GoogleCredentials.get_application_default()\n",
        "drive = GoogleDrive(gauth)"
      ],
      "execution_count": 0,
      "outputs": []
    },
    {
      "metadata": {
        "id": "KFC6q5J3vBKM",
        "colab_type": "code",
        "colab": {}
      },
      "cell_type": "code",
      "source": [
        "link = 'https://drive.google.com/open?id=1ajCMiUI6Wv8QdpYmtbcM--U4RTFVH6zq' "
      ],
      "execution_count": 0,
      "outputs": []
    },
    {
      "metadata": {
        "id": "evPFqfUhwipO",
        "colab_type": "code",
        "outputId": "7ca6b7e8-472b-49c2-d5c1-8e6ecee46fde",
        "colab": {
          "base_uri": "https://localhost:8080/",
          "height": 34
        }
      },
      "cell_type": "code",
      "source": [
        "fluff, id = link.split('=')\n",
        "print (id) # Verify that you have everything after '='"
      ],
      "execution_count": 4,
      "outputs": [
        {
          "output_type": "stream",
          "text": [
            "1ajCMiUI6Wv8QdpYmtbcM--U4RTFVH6zq\n"
          ],
          "name": "stdout"
        }
      ]
    },
    {
      "metadata": {
        "id": "D3pdUcuewj2j",
        "colab_type": "code",
        "colab": {}
      },
      "cell_type": "code",
      "source": [
        "downloaded = drive.CreateFile({'id':id}) \n",
        "downloaded.GetContentFile('trainimg.pkl')  \n",
        "# Dataset is now stored in a Pandas Dataframe"
      ],
      "execution_count": 0,
      "outputs": []
    },
    {
      "metadata": {
        "id": "zI-lD0BZzt-Q",
        "colab_type": "text"
      },
      "cell_type": "markdown",
      "source": [
        "Unpickling the dataset"
      ]
    },
    {
      "metadata": {
        "id": "6sjB-8UjIQAH",
        "colab_type": "code",
        "colab": {}
      },
      "cell_type": "code",
      "source": [
        "pickle_off = open(\"trainimg.pkl\",\"rb\")\n",
        "emp = pickle.load(pickle_off)"
      ],
      "execution_count": 0,
      "outputs": []
    },
    {
      "metadata": {
        "id": "zHJ3ZZ5aJXhy",
        "colab_type": "code",
        "outputId": "9ca5daf7-1947-4056-9918-fd62af825991",
        "colab": {
          "base_uri": "https://localhost:8080/",
          "height": 34
        }
      },
      "cell_type": "code",
      "source": [
        "len(emp[0])"
      ],
      "execution_count": 0,
      "outputs": [
        {
          "output_type": "execute_result",
          "data": {
            "text/plain": [
              "784"
            ]
          },
          "metadata": {
            "tags": []
          },
          "execution_count": 104
        }
      ]
    },
    {
      "metadata": {
        "id": "H2DD7SlN0B3F",
        "colab_type": "text"
      },
      "cell_type": "markdown",
      "source": [
        "Reshaping the list as per image dimensions and displaying an example"
      ]
    },
    {
      "metadata": {
        "id": "XMooujKg-igN",
        "colab_type": "code",
        "colab": {}
      },
      "cell_type": "code",
      "source": [
        "x_train=np.array(emp)"
      ],
      "execution_count": 0,
      "outputs": []
    },
    {
      "metadata": {
        "id": "E1nJJibm-SU0",
        "colab_type": "code",
        "colab": {}
      },
      "cell_type": "code",
      "source": [
        "x_train=x_train.reshape((8000,28,28,1))"
      ],
      "execution_count": 0,
      "outputs": []
    },
    {
      "metadata": {
        "id": "sqxhY_oz316y",
        "colab_type": "code",
        "colab": {}
      },
      "cell_type": "code",
      "source": [
        "x_validate=x_train[6360:]"
      ],
      "execution_count": 0,
      "outputs": []
    },
    {
      "metadata": {
        "id": "iBoAK9Ls-dIf",
        "colab_type": "code",
        "colab": {}
      },
      "cell_type": "code",
      "source": [
        "img_tensor=x_train[2]"
      ],
      "execution_count": 0,
      "outputs": []
    },
    {
      "metadata": {
        "id": "hRma3ZgF_p1O",
        "colab_type": "code",
        "colab": {}
      },
      "cell_type": "code",
      "source": [
        "img_tensor=img_tensor.reshape((28,28))"
      ],
      "execution_count": 0,
      "outputs": []
    },
    {
      "metadata": {
        "id": "E9shOEMG_Xnx",
        "colab_type": "code",
        "colab": {}
      },
      "cell_type": "code",
      "source": [
        "img_tensor = np.expand_dims(img_tensor, axis=0)"
      ],
      "execution_count": 0,
      "outputs": []
    },
    {
      "metadata": {
        "id": "Q6ehWhgIACio",
        "colab_type": "code",
        "colab": {}
      },
      "cell_type": "code",
      "source": [
        "from keras.preprocessing import image\n",
        "from keras import activations\n",
        "from matplotlib import pyplot as plt\n",
        "%matplotlib inline"
      ],
      "execution_count": 0,
      "outputs": []
    },
    {
      "metadata": {
        "id": "ZPRmbddz_66K",
        "colab_type": "code",
        "outputId": "f9552fef-e582-4a0c-cb79-51c78329ab9c",
        "colab": {
          "base_uri": "https://localhost:8080/",
          "height": 282
        }
      },
      "cell_type": "code",
      "source": [
        "plt.imshow(img_tensor)"
      ],
      "execution_count": 0,
      "outputs": [
        {
          "output_type": "execute_result",
          "data": {
            "text/plain": [
              "<matplotlib.image.AxesImage at 0x7fd912309b70>"
            ]
          },
          "metadata": {
            "tags": []
          },
          "execution_count": 116
        },
        {
          "output_type": "display_data",
          "data": {
            "image/png": "[encoded data removed]",
            "text/plain": [
              "<Figure size 432x288 with 1 Axes>"
            ]
          },
          "metadata": {
            "tags": []
          }
        }
      ]
    },
    {
      "metadata": {
        "id": "Q5jId_MN0PFh",
        "colab_type": "text"
      },
      "cell_type": "markdown",
      "source": [
        "Downloading the training labels"
      ]
    },
    {
      "metadata": {
        "colab_type": "code",
        "id": "VTsR-udw_HHb",
        "colab": {}
      },
      "cell_type": "code",
      "source": [
        "link = 'https://drive.google.com/open?id=1CjWhqbqViHgS7ti5dajfiwC36qupwlhw' "
      ],
      "execution_count": 0,
      "outputs": []
    },
    {
      "metadata": {
        "colab_type": "code",
        "outputId": "119b0fd8-c0b0-4ad3-b2c0-e5b25048f561",
        "id": "Bt7j4IBa_HHq",
        "colab": {
          "base_uri": "https://localhost:8080/",
          "height": 34
        }
      },
      "cell_type": "code",
      "source": [
        "fluff, id = link.split('=')\n",
        "print (id) # Verify that you have everything after '='"
      ],
      "execution_count": 11,
      "outputs": [
        {
          "output_type": "stream",
          "text": [
            "1CjWhqbqViHgS7ti5dajfiwC36qupwlhw\n"
          ],
          "name": "stdout"
        }
      ]
    },
    {
      "metadata": {
        "colab_type": "code",
        "id": "_1pJiamZ_HH_",
        "colab": {}
      },
      "cell_type": "code",
      "source": [
        "downloaded = drive.CreateFile({'id':id}) \n",
        "downloaded.GetContentFile('trainlabel.pkl')  \n",
        "# Dataset is now stored in a Pandas Dataframe"
      ],
      "execution_count": 0,
      "outputs": []
    },
    {
      "metadata": {
        "id": "Zsh-DzXZBOst",
        "colab_type": "code",
        "colab": {}
      },
      "cell_type": "code",
      "source": [
        "pickle_off = open(\"trainlabel.pkl\",\"rb\")\n",
        "emp = pickle.load(pickle_off)\n"
      ],
      "execution_count": 0,
      "outputs": []
    },
    {
      "metadata": {
        "id": "rcjiBForBbUS",
        "colab_type": "code",
        "colab": {}
      },
      "cell_type": "code",
      "source": [
        "y_train=np.array(emp)"
      ],
      "execution_count": 0,
      "outputs": []
    },
    {
      "metadata": {
        "id": "22qbtbcdCGzA",
        "colab_type": "code",
        "outputId": "b7f8f39e-af8e-45d4-9d21-0c0bf47d08eb",
        "colab": {
          "base_uri": "https://localhost:8080/",
          "height": 34
        }
      },
      "cell_type": "code",
      "source": [
        "y_train.shape"
      ],
      "execution_count": 15,
      "outputs": [
        {
          "output_type": "execute_result",
          "data": {
            "text/plain": [
              "(8000,)"
            ]
          },
          "metadata": {
            "tags": []
          },
          "execution_count": 15
        }
      ]
    },
    {
      "metadata": {
        "id": "NQZgHW6dxmgB",
        "colab_type": "code",
        "colab": {}
      },
      "cell_type": "code",
      "source": [
        "y_train=y_train.reshape((8000,1))"
      ],
      "execution_count": 0,
      "outputs": []
    },
    {
      "metadata": {
        "id": "okFOiw-vKFyk",
        "colab_type": "text"
      },
      "cell_type": "markdown",
      "source": [
        "shuffling the dataset\n"
      ]
    },
    {
      "metadata": {
        "id": "EicrbhxTxrL5",
        "colab_type": "code",
        "colab": {}
      },
      "cell_type": "code",
      "source": [
        "x_train, y_train = shuffle(x_train, y_train, random_state=0)"
      ],
      "execution_count": 0,
      "outputs": []
    },
    {
      "metadata": {
        "id": "5056wv_b0Vv6",
        "colab_type": "text"
      },
      "cell_type": "markdown",
      "source": [
        "Downloading the test images"
      ]
    },
    {
      "metadata": {
        "colab_type": "code",
        "id": "_1BKo0RSLP0V",
        "colab": {}
      },
      "cell_type": "code",
      "source": [
        "link = 'https://drive.google.com/open?id=16rGDv7syd_gR5xIBgHvflMehePTBCDmy' "
      ],
      "execution_count": 0,
      "outputs": []
    },
    {
      "metadata": {
        "colab_type": "code",
        "outputId": "d953b419-f7c2-4690-e6ed-c417daacc5f6",
        "id": "snFTUJV8LP0h",
        "colab": {
          "base_uri": "https://localhost:8080/",
          "height": 34
        }
      },
      "cell_type": "code",
      "source": [
        "fluff, id = link.split('=')\n",
        "print (id) # Verify that you have everything after '='"
      ],
      "execution_count": 20,
      "outputs": [
        {
          "output_type": "stream",
          "text": [
            "16rGDv7syd_gR5xIBgHvflMehePTBCDmy\n"
          ],
          "name": "stdout"
        }
      ]
    },
    {
      "metadata": {
        "colab_type": "code",
        "id": "KCSsncuILP09",
        "colab": {}
      },
      "cell_type": "code",
      "source": [
        "downloaded = drive.CreateFile({'id':id}) \n",
        "downloaded.GetContentFile('testimg.pkl')  \n",
        "# Dataset is now stored in a Pandas Dataframe"
      ],
      "execution_count": 0,
      "outputs": []
    },
    {
      "metadata": {
        "colab_type": "code",
        "id": "3ePBg5fELP2Q",
        "colab": {}
      },
      "cell_type": "code",
      "source": [
        "pickle_off = open(\"testimg.pkl\",\"rb\")\n",
        "emp = pickle.load(pickle_off)\n"
      ],
      "execution_count": 0,
      "outputs": []
    },
    {
      "metadata": {
        "colab_type": "code",
        "outputId": "d814c33c-bef2-4fa1-a5a7-5f7a8e210ea5",
        "id": "wKKDeu5ELP2f",
        "colab": {
          "base_uri": "https://localhost:8080/",
          "height": 34
        }
      },
      "cell_type": "code",
      "source": [
        "len(emp)"
      ],
      "execution_count": 0,
      "outputs": [
        {
          "output_type": "execute_result",
          "data": {
            "text/plain": [
              "2000"
            ]
          },
          "metadata": {
            "tags": []
          },
          "execution_count": 20
        }
      ]
    },
    {
      "metadata": {
        "colab_type": "code",
        "id": "SVn52KY7LP2y",
        "colab": {}
      },
      "cell_type": "code",
      "source": [
        "x_test=np.array(emp)"
      ],
      "execution_count": 0,
      "outputs": []
    },
    {
      "metadata": {
        "colab_type": "code",
        "id": "RmVPUvK5LP2_",
        "colab": {}
      },
      "cell_type": "code",
      "source": [
        "x_test=x_test.reshape((2000,28,28,1))"
      ],
      "execution_count": 0,
      "outputs": []
    },
    {
      "metadata": {
        "id": "rD1qXXYbCg5M",
        "colab_type": "code",
        "outputId": "4cf9bf5b-0a41-487f-c54b-1dccff043390",
        "colab": {
          "base_uri": "https://localhost:8080/",
          "height": 34
        }
      },
      "cell_type": "code",
      "source": [
        "from __future__ import absolute_import\n",
        "from __future__ import division\n",
        "from __future__ import print_function\n",
        "\n",
        "import tempfile, sys, os\n",
        "sys.path.insert(0, os.path.abspath('..'))\n",
        "\n",
        "import keras\n",
        "from keras.datasets import mnist\n",
        "from keras.models import Sequential, Model\n",
        "from keras.layers import Dense, Dropout, Flatten, Activation\n",
        "from keras.layers import Conv2D, MaxPooling2D\n",
        "from keras import backend as K"
      ],
      "execution_count": 25,
      "outputs": [
        {
          "output_type": "stream",
          "text": [
            "Using TensorFlow backend.\n"
          ],
          "name": "stderr"
        }
      ]
    },
    {
      "metadata": {
        "id": "nbgWpE8q0aD8",
        "colab_type": "text"
      },
      "cell_type": "markdown",
      "source": [
        "Changing class values to be able to use to_categorically"
      ]
    },
    {
      "metadata": {
        "id": "-T-LnqBZCom5",
        "colab_type": "code",
        "outputId": "09e690c6-1965-48a5-cfb7-d3c4525a304c",
        "colab": {
          "base_uri": "https://localhost:8080/",
          "height": 34
        }
      },
      "cell_type": "code",
      "source": [
        "np.unique(y_train)"
      ],
      "execution_count": 26,
      "outputs": [
        {
          "output_type": "execute_result",
          "data": {
            "text/plain": [
              "array([0, 2, 3, 6])"
            ]
          },
          "metadata": {
            "tags": []
          },
          "execution_count": 26
        }
      ]
    },
    {
      "metadata": {
        "id": "NbMhp4DBKci6",
        "colab_type": "code",
        "colab": {}
      },
      "cell_type": "code",
      "source": [
        "y_train[y_train==2]=1"
      ],
      "execution_count": 0,
      "outputs": []
    },
    {
      "metadata": {
        "id": "Nb881h8gKbyl",
        "colab_type": "code",
        "colab": {}
      },
      "cell_type": "code",
      "source": [
        "y_train[y_train==3]=2"
      ],
      "execution_count": 0,
      "outputs": []
    },
    {
      "metadata": {
        "id": "N1RrLaUDC8zF",
        "colab_type": "code",
        "colab": {}
      },
      "cell_type": "code",
      "source": [
        "y_train[y_train==6]=3\n",
        "    "
      ],
      "execution_count": 0,
      "outputs": []
    },
    {
      "metadata": {
        "id": "iOvnL3rqCZkO",
        "colab_type": "code",
        "colab": {}
      },
      "cell_type": "code",
      "source": [
        "y_train = keras.utils.to_categorical(y_train, 4)"
      ],
      "execution_count": 0,
      "outputs": []
    },
    {
      "metadata": {
        "id": "ccb1t005HtG1",
        "colab_type": "code",
        "outputId": "edc73e9d-c14d-4baa-d6cf-e3357b3f85cf",
        "colab": {
          "base_uri": "https://localhost:8080/",
          "height": 34
        }
      },
      "cell_type": "code",
      "source": [
        "y_train.shape"
      ],
      "execution_count": 36,
      "outputs": [
        {
          "output_type": "execute_result",
          "data": {
            "text/plain": [
              "(8000, 4)"
            ]
          },
          "metadata": {
            "tags": []
          },
          "execution_count": 36
        }
      ]
    },
    {
      "metadata": {
        "id": "7axvcVCP3PDx",
        "colab_type": "text"
      },
      "cell_type": "markdown",
      "source": [
        "Creating validation set"
      ]
    },
    {
      "metadata": {
        "id": "p4O9afXt1LSJ",
        "colab_type": "code",
        "colab": {}
      },
      "cell_type": "code",
      "source": [
        "x_validate=x_train[6360:]"
      ],
      "execution_count": 0,
      "outputs": []
    },
    {
      "metadata": {
        "id": "643VuqmW4u89",
        "colab_type": "code",
        "colab": {}
      },
      "cell_type": "code",
      "source": [
        "y_validate=y_train[6360:]"
      ],
      "execution_count": 0,
      "outputs": []
    },
    {
      "metadata": {
        "id": "Z_h4YUeA43mU",
        "colab_type": "code",
        "outputId": "e837a509-bc1b-483b-ac63-8a2005ffff87",
        "colab": {
          "base_uri": "https://localhost:8080/",
          "height": 34
        }
      },
      "cell_type": "code",
      "source": [
        "y_validate.shape"
      ],
      "execution_count": 38,
      "outputs": [
        {
          "output_type": "execute_result",
          "data": {
            "text/plain": [
              "(1640, 4)"
            ]
          },
          "metadata": {
            "tags": []
          },
          "execution_count": 38
        }
      ]
    },
    {
      "metadata": {
        "id": "_KERQoqy3VRk",
        "colab_type": "text"
      },
      "cell_type": "markdown",
      "source": [
        "preprocessing the pixel values"
      ]
    },
    {
      "metadata": {
        "id": "aS_CoNQVIKGC",
        "colab_type": "code",
        "colab": {}
      },
      "cell_type": "code",
      "source": [
        "x_train=x_train/255"
      ],
      "execution_count": 0,
      "outputs": []
    },
    {
      "metadata": {
        "id": "l5YS-pwFIVdi",
        "colab_type": "code",
        "colab": {}
      },
      "cell_type": "code",
      "source": [
        "x_train = (x_train - 0.5) * 2"
      ],
      "execution_count": 0,
      "outputs": []
    },
    {
      "metadata": {
        "colab_type": "code",
        "id": "jyRmIpfNLnQb",
        "colab": {}
      },
      "cell_type": "code",
      "source": [
        "x_test=x_test/255"
      ],
      "execution_count": 0,
      "outputs": []
    },
    {
      "metadata": {
        "colab_type": "code",
        "id": "8RTKZtenLnQm",
        "colab": {}
      },
      "cell_type": "code",
      "source": [
        "x_test = (x_test - 0.5) * 2"
      ],
      "execution_count": 0,
      "outputs": []
    },
    {
      "metadata": {
        "id": "WkAO6ama48P1",
        "colab_type": "code",
        "colab": {}
      },
      "cell_type": "code",
      "source": [
        "x_validate=x_validate/255"
      ],
      "execution_count": 0,
      "outputs": []
    },
    {
      "metadata": {
        "id": "s_YqZYWe48Dn",
        "colab_type": "code",
        "colab": {}
      },
      "cell_type": "code",
      "source": [
        "x_validate = (x_validate - 0.5) * 2"
      ],
      "execution_count": 0,
      "outputs": []
    },
    {
      "metadata": {
        "id": "PYw77VYF0nfi",
        "colab_type": "text"
      },
      "cell_type": "markdown",
      "source": [
        "building a simple convolutional module"
      ]
    },
    {
      "metadata": {
        "id": "-Q0nLthD6yv7",
        "colab_type": "code",
        "colab": {}
      },
      "cell_type": "code",
      "source": [
        "from keras.layers import GlobalAveragePooling2D "
      ],
      "execution_count": 0,
      "outputs": []
    },
    {
      "metadata": {
        "id": "twC0wO50CIYQ",
        "colab_type": "code",
        "colab": {
          "base_uri": "https://localhost:8080/",
          "height": 139
        },
        "outputId": "34f75b95-910d-4b2d-c154-061ee5d661a8"
      },
      "cell_type": "code",
      "source": [
        "model = Sequential()\n",
        "model.add(Conv2D(32, kernel_size=(3, 3),\n",
        "                 activation='relu',\n",
        "                 input_shape=(28,28,1)))\n",
        "model.add(Conv2D(64, (3, 3), activation='relu'))\n",
        "model.add(MaxPooling2D(pool_size=(2, 2)))\n",
        "model.add(Dropout(0.25))\n",
        "model.add(Flatten())\n",
        "model.add(Dense(128, activation='relu'))\n",
        "model.add(Dropout(0.5))\n",
        "model.add(Dense(4))\n",
        "model.add(Activation('softmax')) "
      ],
      "execution_count": 46,
      "outputs": [
        {
          "output_type": "stream",
          "text": [
            "WARNING:tensorflow:From /usr/local/lib/python3.6/dist-packages/tensorflow/python/framework/op_def_library.py:263: colocate_with (from tensorflow.python.framework.ops) is deprecated and will be removed in a future version.\n",
            "Instructions for updating:\n",
            "Colocations handled automatically by placer.\n",
            "WARNING:tensorflow:From /usr/local/lib/python3.6/dist-packages/keras/backend/tensorflow_backend.py:3445: calling dropout (from tensorflow.python.ops.nn_ops) with keep_prob is deprecated and will be removed in a future version.\n",
            "Instructions for updating:\n",
            "Please use `rate` instead of `keep_prob`. Rate should be set to `rate = 1 - keep_prob`.\n"
          ],
          "name": "stdout"
        }
      ]
    },
    {
      "metadata": {
        "id": "MTjQ_IOX7DkC",
        "colab_type": "code",
        "outputId": "85fafb65-7b59-4e73-dae5-213df721fca5",
        "colab": {
          "base_uri": "https://localhost:8080/",
          "height": 442
        }
      },
      "cell_type": "code",
      "source": [
        "model.summary()"
      ],
      "execution_count": 47,
      "outputs": [
        {
          "output_type": "stream",
          "text": [
            "_________________________________________________________________\n",
            "Layer (type)                 Output Shape              Param #   \n",
            "=================================================================\n",
            "conv2d_1 (Conv2D)            (None, 26, 26, 32)        320       \n",
            "_________________________________________________________________\n",
            "conv2d_2 (Conv2D)            (None, 24, 24, 64)        18496     \n",
            "_________________________________________________________________\n",
            "max_pooling2d_1 (MaxPooling2 (None, 12, 12, 64)        0         \n",
            "_________________________________________________________________\n",
            "dropout_1 (Dropout)          (None, 12, 12, 64)        0         \n",
            "_________________________________________________________________\n",
            "flatten_1 (Flatten)          (None, 9216)              0         \n",
            "_________________________________________________________________\n",
            "dense_1 (Dense)              (None, 128)               1179776   \n",
            "_________________________________________________________________\n",
            "dropout_2 (Dropout)          (None, 128)               0         \n",
            "_________________________________________________________________\n",
            "dense_2 (Dense)              (None, 4)                 516       \n",
            "_________________________________________________________________\n",
            "activation_1 (Activation)    (None, 4)                 0         \n",
            "=================================================================\n",
            "Total params: 1,199,108\n",
            "Trainable params: 1,199,108\n",
            "Non-trainable params: 0\n",
            "_________________________________________________________________\n"
          ],
          "name": "stdout"
        }
      ]
    },
    {
      "metadata": {
        "id": "i8_2dNTfIdmu",
        "colab_type": "code",
        "colab": {}
      },
      "cell_type": "code",
      "source": [
        "model.compile(loss=keras.losses.categorical_crossentropy,\n",
        "              optimizer=keras.optimizers.Adadelta(),\n",
        "              metrics=['accuracy'])"
      ],
      "execution_count": 0,
      "outputs": []
    },
    {
      "metadata": {
        "id": "y8UjoZqN3x27",
        "colab_type": "text"
      },
      "cell_type": "markdown",
      "source": [
        "Training the model\n",
        "\n",
        "Earlier I had tried training the model on unshuffled data but that gave me very poor validation accuracy around 30%. I have experienced similar problem in the past with smaller datasets where the model is not able to generalise the feauture due to uneven distribution. After shuffling I was able to achieve high validation accuracy"
      ]
    },
    {
      "metadata": {
        "id": "kEqvYsk-IhzC",
        "colab_type": "code",
        "outputId": "343b1b03-9056-4d48-a6d9-8dc9dde98f9f",
        "colab": {
          "base_uri": "https://localhost:8080/",
          "height": 1822
        }
      },
      "cell_type": "code",
      "source": [
        "model.fit(x_train[:6360], y_train[:6360],\n",
        "          batch_size=25,\n",
        "          epochs=50,\n",
        "          verbose=1,validation_data=(x_validate,y_validate),shuffle=True)"
      ],
      "execution_count": 49,
      "outputs": [
        {
          "output_type": "stream",
          "text": [
            "WARNING:tensorflow:From /usr/local/lib/python3.6/dist-packages/tensorflow/python/ops/math_ops.py:3066: to_int32 (from tensorflow.python.ops.math_ops) is deprecated and will be removed in a future version.\n",
            "Instructions for updating:\n",
            "Use tf.cast instead.\n",
            "Train on 6360 samples, validate on 1640 samples\n",
            "Epoch 1/50\n",
            "6360/6360 [==============================] - 8s 1ms/step - loss: 0.6411 - acc: 0.7395 - val_loss: 0.5402 - val_acc: 0.7841\n",
            "Epoch 2/50\n",
            "6360/6360 [==============================] - 3s 462us/step - loss: 0.4510 - acc: 0.8258 - val_loss: 0.4283 - val_acc: 0.8293\n",
            "Epoch 3/50\n",
            "6360/6360 [==============================] - 3s 451us/step - loss: 0.3995 - acc: 0.8436 - val_loss: 0.3845 - val_acc: 0.8488\n",
            "Epoch 4/50\n",
            "6360/6360 [==============================] - 3s 449us/step - loss: 0.3536 - acc: 0.8610 - val_loss: 0.3521 - val_acc: 0.8659\n",
            "Epoch 5/50\n",
            "6360/6360 [==============================] - 3s 449us/step - loss: 0.3199 - acc: 0.8785 - val_loss: 0.3835 - val_acc: 0.8628\n",
            "Epoch 6/50\n",
            "6360/6360 [==============================] - 3s 451us/step - loss: 0.2896 - acc: 0.8865 - val_loss: 0.3434 - val_acc: 0.8640\n",
            "Epoch 7/50\n",
            "6360/6360 [==============================] - 3s 445us/step - loss: 0.2638 - acc: 0.8965 - val_loss: 0.3404 - val_acc: 0.8744\n",
            "Epoch 8/50\n",
            "6360/6360 [==============================] - 3s 443us/step - loss: 0.2428 - acc: 0.9069 - val_loss: 0.3464 - val_acc: 0.8762\n",
            "Epoch 9/50\n",
            "6360/6360 [==============================] - 3s 446us/step - loss: 0.2124 - acc: 0.9190 - val_loss: 0.3317 - val_acc: 0.8793\n",
            "Epoch 10/50\n",
            "6360/6360 [==============================] - 3s 446us/step - loss: 0.1934 - acc: 0.9270 - val_loss: 0.3479 - val_acc: 0.8750\n",
            "Epoch 11/50\n",
            "6360/6360 [==============================] - 3s 445us/step - loss: 0.1726 - acc: 0.9355 - val_loss: 0.3489 - val_acc: 0.8768\n",
            "Epoch 12/50\n",
            "6360/6360 [==============================] - 3s 445us/step - loss: 0.1581 - acc: 0.9415 - val_loss: 0.3535 - val_acc: 0.8854\n",
            "Epoch 13/50\n",
            "6360/6360 [==============================] - 3s 462us/step - loss: 0.1451 - acc: 0.9484 - val_loss: 0.3618 - val_acc: 0.8848\n",
            "Epoch 14/50\n",
            "6360/6360 [==============================] - 3s 447us/step - loss: 0.1255 - acc: 0.9498 - val_loss: 0.3823 - val_acc: 0.8835\n",
            "Epoch 15/50\n",
            "6360/6360 [==============================] - 3s 443us/step - loss: 0.1146 - acc: 0.9580 - val_loss: 0.3971 - val_acc: 0.8921\n",
            "Epoch 16/50\n",
            "6360/6360 [==============================] - 3s 438us/step - loss: 0.1112 - acc: 0.9582 - val_loss: 0.4019 - val_acc: 0.8793\n",
            "Epoch 17/50\n",
            "6360/6360 [==============================] - 3s 440us/step - loss: 0.0927 - acc: 0.9665 - val_loss: 0.3890 - val_acc: 0.8854\n",
            "Epoch 18/50\n",
            "6360/6360 [==============================] - 3s 460us/step - loss: 0.0925 - acc: 0.9654 - val_loss: 0.3817 - val_acc: 0.8835\n",
            "Epoch 19/50\n",
            "6360/6360 [==============================] - 3s 460us/step - loss: 0.0816 - acc: 0.9720 - val_loss: 0.4269 - val_acc: 0.8848\n",
            "Epoch 20/50\n",
            "6360/6360 [==============================] - 3s 447us/step - loss: 0.0768 - acc: 0.9692 - val_loss: 0.4437 - val_acc: 0.8799\n",
            "Epoch 21/50\n",
            "6360/6360 [==============================] - 3s 460us/step - loss: 0.0674 - acc: 0.9770 - val_loss: 0.4427 - val_acc: 0.8793\n",
            "Epoch 22/50\n",
            "6360/6360 [==============================] - 3s 461us/step - loss: 0.0704 - acc: 0.9741 - val_loss: 0.4145 - val_acc: 0.8860\n",
            "Epoch 23/50\n",
            "6360/6360 [==============================] - 3s 460us/step - loss: 0.0630 - acc: 0.9772 - val_loss: 0.4957 - val_acc: 0.8872\n",
            "Epoch 24/50\n",
            "6360/6360 [==============================] - 3s 451us/step - loss: 0.0552 - acc: 0.9786 - val_loss: 0.5319 - val_acc: 0.8872\n",
            "Epoch 25/50\n",
            "6360/6360 [==============================] - 3s 445us/step - loss: 0.0525 - acc: 0.9803 - val_loss: 0.4822 - val_acc: 0.8902\n",
            "Epoch 26/50\n",
            "6360/6360 [==============================] - 3s 446us/step - loss: 0.0482 - acc: 0.9819 - val_loss: 0.5582 - val_acc: 0.8848\n",
            "Epoch 27/50\n",
            "6360/6360 [==============================] - 3s 444us/step - loss: 0.0512 - acc: 0.9805 - val_loss: 0.4760 - val_acc: 0.8835\n",
            "Epoch 28/50\n",
            "6360/6360 [==============================] - 3s 444us/step - loss: 0.0447 - acc: 0.9844 - val_loss: 0.5227 - val_acc: 0.8811\n",
            "Epoch 29/50\n",
            "6360/6360 [==============================] - 3s 443us/step - loss: 0.0416 - acc: 0.9865 - val_loss: 0.5316 - val_acc: 0.8927\n",
            "Epoch 30/50\n",
            "6360/6360 [==============================] - 3s 440us/step - loss: 0.0427 - acc: 0.9858 - val_loss: 0.5131 - val_acc: 0.8848\n",
            "Epoch 31/50\n",
            "6360/6360 [==============================] - 3s 444us/step - loss: 0.0407 - acc: 0.9866 - val_loss: 0.5378 - val_acc: 0.8915\n",
            "Epoch 32/50\n",
            "6360/6360 [==============================] - 3s 442us/step - loss: 0.0364 - acc: 0.9876 - val_loss: 0.5699 - val_acc: 0.8890\n",
            "Epoch 33/50\n",
            "6360/6360 [==============================] - 3s 448us/step - loss: 0.0366 - acc: 0.9873 - val_loss: 0.5531 - val_acc: 0.8835\n",
            "Epoch 34/50\n",
            "6360/6360 [==============================] - 3s 444us/step - loss: 0.0392 - acc: 0.9877 - val_loss: 0.5150 - val_acc: 0.8854\n",
            "Epoch 35/50\n",
            "6360/6360 [==============================] - 3s 444us/step - loss: 0.0328 - acc: 0.9887 - val_loss: 0.5595 - val_acc: 0.8902\n",
            "Epoch 36/50\n",
            "6360/6360 [==============================] - 3s 442us/step - loss: 0.0300 - acc: 0.9890 - val_loss: 0.5883 - val_acc: 0.8854\n",
            "Epoch 37/50\n",
            "6360/6360 [==============================] - 3s 444us/step - loss: 0.0335 - acc: 0.9887 - val_loss: 0.6139 - val_acc: 0.8921\n",
            "Epoch 38/50\n",
            "6360/6360 [==============================] - 3s 443us/step - loss: 0.0323 - acc: 0.9893 - val_loss: 0.5531 - val_acc: 0.8799\n",
            "Epoch 39/50\n",
            "6360/6360 [==============================] - 3s 445us/step - loss: 0.0285 - acc: 0.9909 - val_loss: 0.5849 - val_acc: 0.8909\n",
            "Epoch 40/50\n",
            "6360/6360 [==============================] - 3s 441us/step - loss: 0.0292 - acc: 0.9901 - val_loss: 0.5675 - val_acc: 0.8878\n",
            "Epoch 41/50\n",
            "6360/6360 [==============================] - 3s 439us/step - loss: 0.0250 - acc: 0.9923 - val_loss: 0.6077 - val_acc: 0.8841\n",
            "Epoch 42/50\n",
            "6360/6360 [==============================] - 3s 444us/step - loss: 0.0313 - acc: 0.9909 - val_loss: 0.6282 - val_acc: 0.8866\n",
            "Epoch 43/50\n",
            "6360/6360 [==============================] - 3s 443us/step - loss: 0.0231 - acc: 0.9925 - val_loss: 0.6718 - val_acc: 0.8884\n",
            "Epoch 44/50\n",
            "6360/6360 [==============================] - 3s 447us/step - loss: 0.0234 - acc: 0.9920 - val_loss: 0.6286 - val_acc: 0.8854\n",
            "Epoch 45/50\n",
            "6360/6360 [==============================] - 3s 442us/step - loss: 0.0230 - acc: 0.9921 - val_loss: 0.6554 - val_acc: 0.8872\n",
            "Epoch 46/50\n",
            "6360/6360 [==============================] - 3s 442us/step - loss: 0.0259 - acc: 0.9904 - val_loss: 0.6650 - val_acc: 0.8829\n",
            "Epoch 47/50\n",
            "6360/6360 [==============================] - 3s 443us/step - loss: 0.0210 - acc: 0.9934 - val_loss: 0.6052 - val_acc: 0.8860\n",
            "Epoch 48/50\n",
            "6360/6360 [==============================] - 3s 445us/step - loss: 0.0262 - acc: 0.9910 - val_loss: 0.6055 - val_acc: 0.8866\n",
            "Epoch 49/50\n",
            "6360/6360 [==============================] - 3s 448us/step - loss: 0.0207 - acc: 0.9943 - val_loss: 0.5728 - val_acc: 0.8811\n",
            "Epoch 50/50\n",
            "6360/6360 [==============================] - 3s 447us/step - loss: 0.0213 - acc: 0.9934 - val_loss: 0.7338 - val_acc: 0.8872\n"
          ],
          "name": "stdout"
        },
        {
          "output_type": "execute_result",
          "data": {
            "text/plain": [
              "<keras.callbacks.History at 0x7f55625b6048>"
            ]
          },
          "metadata": {
            "tags": []
          },
          "execution_count": 49
        }
      ]
    },
    {
      "metadata": {
        "id": "AMUoOcs9MTCU",
        "colab_type": "code",
        "colab": {}
      },
      "cell_type": "code",
      "source": [
        "labels=[]"
      ],
      "execution_count": 0,
      "outputs": []
    },
    {
      "metadata": {
        "id": "HrNLBvlF0u3e",
        "colab_type": "text"
      },
      "cell_type": "markdown",
      "source": [
        "predicitng the test labels"
      ]
    },
    {
      "metadata": {
        "id": "DZ9bd6j3IuPx",
        "colab_type": "code",
        "colab": {}
      },
      "cell_type": "code",
      "source": [
        "y_prob=model.predict(x_test)"
      ],
      "execution_count": 0,
      "outputs": []
    },
    {
      "metadata": {
        "id": "dRcC-imzMO2_",
        "colab_type": "code",
        "colab": {}
      },
      "cell_type": "code",
      "source": [
        "y_labels=y_prob.argmax(axis=-1)"
      ],
      "execution_count": 0,
      "outputs": []
    },
    {
      "metadata": {
        "id": "geTelvckMt-e",
        "colab_type": "code",
        "outputId": "6889aa84-9b43-4390-e91f-58474c8cb89f",
        "colab": {
          "base_uri": "https://localhost:8080/",
          "height": 34
        }
      },
      "cell_type": "code",
      "source": [
        "np.unique(y_labels)"
      ],
      "execution_count": 53,
      "outputs": [
        {
          "output_type": "execute_result",
          "data": {
            "text/plain": [
              "array([0, 1, 2, 3])"
            ]
          },
          "metadata": {
            "tags": []
          },
          "execution_count": 53
        }
      ]
    },
    {
      "metadata": {
        "colab_type": "code",
        "id": "rzik2VWXNXo-",
        "colab": {}
      },
      "cell_type": "code",
      "source": [
        "y_labels[y_labels==3]=6"
      ],
      "execution_count": 0,
      "outputs": []
    },
    {
      "metadata": {
        "colab_type": "code",
        "id": "5MpRrKofNXpL",
        "colab": {}
      },
      "cell_type": "code",
      "source": [
        "y_labels[y_labels==2]=3"
      ],
      "execution_count": 0,
      "outputs": []
    },
    {
      "metadata": {
        "colab_type": "code",
        "id": "GsBg-_5VNXpX",
        "colab": {}
      },
      "cell_type": "code",
      "source": [
        "y_labels[y_labels==1]=2\n",
        "    "
      ],
      "execution_count": 0,
      "outputs": []
    },
    {
      "metadata": {
        "id": "E4vYYVhLNpzj",
        "colab_type": "code",
        "outputId": "64e79e00-ba7a-41ac-cd16-6351a69a4958",
        "colab": {
          "base_uri": "https://localhost:8080/",
          "height": 34
        }
      },
      "cell_type": "code",
      "source": [
        "np.unique(y_labels)"
      ],
      "execution_count": 57,
      "outputs": [
        {
          "output_type": "execute_result",
          "data": {
            "text/plain": [
              "array([0, 2, 3, 6])"
            ]
          },
          "metadata": {
            "tags": []
          },
          "execution_count": 57
        }
      ]
    },
    {
      "metadata": {
        "id": "mduqwSwH08jh",
        "colab_type": "text"
      },
      "cell_type": "markdown",
      "source": [
        "sending labels to dataframe and producing csv"
      ]
    },
    {
      "metadata": {
        "id": "jJ7eEIcWNr13",
        "colab_type": "code",
        "colab": {}
      },
      "cell_type": "code",
      "source": [
        "import csv\n",
        "import pandas as pd"
      ],
      "execution_count": 0,
      "outputs": []
    },
    {
      "metadata": {
        "id": "D7SzdOboN76U",
        "colab_type": "code",
        "colab": {}
      },
      "cell_type": "code",
      "source": [
        "df=pd.DataFrame(columns=['image_index','class'])"
      ],
      "execution_count": 0,
      "outputs": []
    },
    {
      "metadata": {
        "id": "ZCxXNh8-OcH-",
        "colab_type": "code",
        "colab": {}
      },
      "cell_type": "code",
      "source": [
        "for i in range (0,2000):\n",
        "  df.loc[i]=[i,y_labels[i]]"
      ],
      "execution_count": 0,
      "outputs": []
    },
    {
      "metadata": {
        "id": "gMIsPHerOxvN",
        "colab_type": "code",
        "outputId": "aecc3c6c-26cf-4dae-c553-2f18a9798beb",
        "colab": {
          "base_uri": "https://localhost:8080/",
          "height": 204
        }
      },
      "cell_type": "code",
      "source": [
        "df.head()"
      ],
      "execution_count": 61,
      "outputs": [
        {
          "output_type": "execute_result",
          "data": {
            "text/html": [
              "<div>\n",
              "<style scoped>\n",
              "    .dataframe tbody tr th:only-of-type {\n",
              "        vertical-align: middle;\n",
              "    }\n",
              "\n",
              "    .dataframe tbody tr th {\n",
              "        vertical-align: top;\n",
              "    }\n",
              "\n",
              "    .dataframe thead th {\n",
              "        text-align: right;\n",
              "    }\n",
              "</style>\n",
              "<table border=\"1\" class=\"dataframe\">\n",
              "  <thead>\n",
              "    <tr style=\"text-align: right;\">\n",
              "      <th></th>\n",
              "      <th>image_index</th>\n",
              "      <th>class</th>\n",
              "    </tr>\n",
              "  </thead>\n",
              "  <tbody>\n",
              "    <tr>\n",
              "      <th>0</th>\n",
              "      <td>0</td>\n",
              "      <td>0</td>\n",
              "    </tr>\n",
              "    <tr>\n",
              "      <th>1</th>\n",
              "      <td>1</td>\n",
              "      <td>6</td>\n",
              "    </tr>\n",
              "    <tr>\n",
              "      <th>2</th>\n",
              "      <td>2</td>\n",
              "      <td>0</td>\n",
              "    </tr>\n",
              "    <tr>\n",
              "      <th>3</th>\n",
              "      <td>3</td>\n",
              "      <td>0</td>\n",
              "    </tr>\n",
              "    <tr>\n",
              "      <th>4</th>\n",
              "      <td>4</td>\n",
              "      <td>0</td>\n",
              "    </tr>\n",
              "  </tbody>\n",
              "</table>\n",
              "</div>"
            ],
            "text/plain": [
              "  image_index class\n",
              "0           0     0\n",
              "1           1     6\n",
              "2           2     0\n",
              "3           3     0\n",
              "4           4     0"
            ]
          },
          "metadata": {
            "tags": []
          },
          "execution_count": 61
        }
      ]
    },
    {
      "metadata": {
        "id": "6NBNxZyOO0eu",
        "colab_type": "code",
        "colab": {}
      },
      "cell_type": "code",
      "source": [
        "df.to_csv('Ayush_Agarwal.csv', sep=',', encoding='utf-8',index=False)"
      ],
      "execution_count": 0,
      "outputs": []
    }
  ]
}