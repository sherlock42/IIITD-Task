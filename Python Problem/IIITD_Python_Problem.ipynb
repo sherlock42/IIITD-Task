{
  "nbformat": 4,
  "nbformat_minor": 0,
  "metadata": {
    "colab": {
      "name": "IIITD Python Problem.ipynb",
      "version": "0.3.2",
      "provenance": [],
      "collapsed_sections": []
    },
    "kernelspec": {
      "name": "python3",
      "display_name": "Python 3"
    }
  },
  "cells": [
    {
      "metadata": {
        "id": "XNdmlxaH5nGs",
        "colab_type": "text"
      },
      "cell_type": "markdown",
      "source": [
        "using colab"
      ]
    },
    {
      "metadata": {
        "id": "Ly9F7nMdPsQU",
        "colab_type": "code",
        "colab": {}
      },
      "cell_type": "code",
      "source": [
        "import tweepy\n",
        "import csv\n",
        "import pandas as pd"
      ],
      "execution_count": 0,
      "outputs": []
    },
    {
      "metadata": {
        "id": "9nr4gqK_QKx5",
        "colab_type": "code",
        "colab": {}
      },
      "cell_type": "code",
      "source": [
        "consumer_key = \"eFS9rnguglXUJf4odfy8agbxq\"\n",
        "consumer_secret = \"iQ3IVN53VyIludtM3neTbwKGMrts4CpgduXTYbrTEbQbt070Hl\"\n",
        "access_key = \"910152560576626689-LFbddF6Uh4NyTsaf6jTq3UppGtQkLs7\"\n",
        "access_secret = \"9emRz8tiZkx4TGZDDh95s9vSojmIMADlIl9I97m7tIJjP\""
      ],
      "execution_count": 0,
      "outputs": []
    },
    {
      "metadata": {
        "id": "LtUJM8Xs30fY",
        "colab_type": "code",
        "colab": {}
      },
      "cell_type": "code",
      "source": [
        "# Authorization to consumer key and consumer secret \n",
        "auth = tweepy.OAuthHandler(consumer_key, consumer_secret) \n",
        "  \n",
        "# Access to user's access key and access secret \n",
        "auth.set_access_token(access_key, access_secret) "
      ],
      "execution_count": 0,
      "outputs": []
    },
    {
      "metadata": {
        "id": "u_ApKMZP3jd1",
        "colab_type": "code",
        "colab": {}
      },
      "cell_type": "code",
      "source": [
        "csvFile = open('result.csv', 'a')"
      ],
      "execution_count": 0,
      "outputs": []
    },
    {
      "metadata": {
        "id": "NsDH-JY75o5O",
        "colab_type": "code",
        "colab": {}
      },
      "cell_type": "code",
      "source": [
        "csvWriter = csv.writer(csvFile)"
      ],
      "execution_count": 0,
      "outputs": []
    },
    {
      "metadata": {
        "id": "Q_nX1RLC4wLi",
        "colab_type": "text"
      },
      "cell_type": "markdown",
      "source": [
        "using user_timeline() to get the tweets from @midasIIITD. Unable to download json using jupyter notebook so directly used the tweet json object to extract the required information for each tweet. Twitter has limit of 3200 tweets. doing it for 200 tweets so it took less time."
      ]
    },
    {
      "metadata": {
        "id": "hdeicmidAUeq",
        "colab_type": "code",
        "colab": {}
      },
      "cell_type": "code",
      "source": [
        "api = tweepy.API(auth)\n",
        "\n",
        "# The Twitter user who we want to get tweets from\n",
        "name = \"midasIIITD\"\n",
        "# Number of tweets to pull\n",
        "tweetCount = 200\n",
        "\n",
        "# Calling the user_timeline function with our parameters\n",
        "results = api.user_timeline(id=name, count=tweetCount)\n",
        "\n",
        "# foreach through all tweets pulled\n",
        "for tweet in results:\n",
        "   # printing the text stored inside the tweet object\n",
        "    try:\n",
        "      img= True in [medium['type'] == 'photo' for medium in tweet.entities['media']]\n",
        "    except:\n",
        "      img=\"None\"\n",
        "    csvWriter.writerow([tweet.created_at, tweet.text.encode('utf-8'),tweet.retweet_count,tweet.favorite_count,img])"
      ],
      "execution_count": 0,
      "outputs": []
    },
    {
      "metadata": {
        "id": "HPkB4OBt5bcz",
        "colab_type": "text"
      },
      "cell_type": "markdown",
      "source": [
        "wrote the tweets to csv and now converting it to dataframe to display in tabular form"
      ]
    },
    {
      "metadata": {
        "id": "6P-HG-mk44i1",
        "colab_type": "code",
        "outputId": "dfd4c2cf-6418-4362-de7e-0473721482e3",
        "colab": {
          "base_uri": "https://localhost:8080/",
          "height": 204
        }
      },
      "cell_type": "code",
      "source": [
        "import pandas as pd \n",
        "data = pd.read_csv(\"result.csv\",names = [\"Date and Time\", \"Text\", \"Retweet Count\", \"Like Count\",\"Image checker\"]) \n",
        "data.head()"
      ],
      "execution_count": 8,
      "outputs": [
        {
          "output_type": "execute_result",
          "data": {
            "text/html": [
              "<div>\n",
              "<style scoped>\n",
              "    .dataframe tbody tr th:only-of-type {\n",
              "        vertical-align: middle;\n",
              "    }\n",
              "\n",
              "    .dataframe tbody tr th {\n",
              "        vertical-align: top;\n",
              "    }\n",
              "\n",
              "    .dataframe thead th {\n",
              "        text-align: right;\n",
              "    }\n",
              "</style>\n",
              "<table border=\"1\" class=\"dataframe\">\n",
              "  <thead>\n",
              "    <tr style=\"text-align: right;\">\n",
              "      <th></th>\n",
              "      <th>Date and Time</th>\n",
              "      <th>Text</th>\n",
              "      <th>Retweet Count</th>\n",
              "      <th>Like Count</th>\n",
              "      <th>Image checker</th>\n",
              "    </tr>\n",
              "  </thead>\n",
              "  <tbody>\n",
              "    <tr>\n",
              "      <th>0</th>\n",
              "      <td>2019-04-07 14:17:29</td>\n",
              "      <td>b'@himanchalchandr Meanwhile, complete CV/NLP ...</td>\n",
              "      <td>0</td>\n",
              "      <td>0</td>\n",
              "      <td>None</td>\n",
              "    </tr>\n",
              "    <tr>\n",
              "      <th>1</th>\n",
              "      <td>2019-04-07 14:17:09</td>\n",
              "      <td>b'@sayangdipto123 Submit as per the guideline ...</td>\n",
              "      <td>0</td>\n",
              "      <td>0</td>\n",
              "      <td>None</td>\n",
              "    </tr>\n",
              "    <tr>\n",
              "      <th>2</th>\n",
              "      <td>2019-04-07 11:43:24</td>\n",
              "      <td>b'We request all students whose interview are ...</td>\n",
              "      <td>1</td>\n",
              "      <td>0</td>\n",
              "      <td>None</td>\n",
              "    </tr>\n",
              "    <tr>\n",
              "      <th>3</th>\n",
              "      <td>2019-04-07 06:55:19</td>\n",
              "      <td>b'Other queries: \"none of the Tweeter Apis giv...</td>\n",
              "      <td>2</td>\n",
              "      <td>3</td>\n",
              "      <td>None</td>\n",
              "    </tr>\n",
              "    <tr>\n",
              "      <th>4</th>\n",
              "      <td>2019-04-07 06:53:38</td>\n",
              "      <td>b'Other queries: \"do we have to make two diffe...</td>\n",
              "      <td>1</td>\n",
              "      <td>4</td>\n",
              "      <td>None</td>\n",
              "    </tr>\n",
              "  </tbody>\n",
              "</table>\n",
              "</div>"
            ],
            "text/plain": [
              "         Date and Time                                               Text  \\\n",
              "0  2019-04-07 14:17:29  b'@himanchalchandr Meanwhile, complete CV/NLP ...   \n",
              "1  2019-04-07 14:17:09  b'@sayangdipto123 Submit as per the guideline ...   \n",
              "2  2019-04-07 11:43:24  b'We request all students whose interview are ...   \n",
              "3  2019-04-07 06:55:19  b'Other queries: \"none of the Tweeter Apis giv...   \n",
              "4  2019-04-07 06:53:38  b'Other queries: \"do we have to make two diffe...   \n",
              "\n",
              "   Retweet Count  Like Count Image checker  \n",
              "0              0           0          None  \n",
              "1              0           0          None  \n",
              "2              1           0          None  \n",
              "3              2           3          None  \n",
              "4              1           4          None  "
            ]
          },
          "metadata": {
            "tags": []
          },
          "execution_count": 8
        }
      ]
    }
  ]
}